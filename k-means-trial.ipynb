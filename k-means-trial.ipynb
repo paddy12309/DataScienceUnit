{
 "cells": [
  {
   "cell_type": "code",
   "execution_count": null,
   "metadata": {},
   "outputs": [],
   "source": [
    "import pandas as pd\n",
    "import numpy as np\n",
    "import matplotlib.pyplot as plt\n",
    "\n",
    "%matplotlib inline\n",
    "\n",
    "\n",
    "with open('GlobalLandTemperaturesByCity.csv') as csvfile:\n",
    "    data = pd.read_csv(csvfile)\n",
    "    changedata = data[data['City'].str.match('Pokhara') & data['Country'].str.match('Nepal')]\n",
    "    usedata = changedata[changedata['dt']>= '1970-01-01']\n",
    "\n",
    "df = pd.DataFrame({\n",
    "    'x': usedata['dt'],\n",
    "    'y': usedata['AverageTemperature']\n",
    "})\n",
    "\n",
    "\n",
    "#np.random.seed(200)\n",
    "k = 3\n",
    "# centroids[i] = [x, y]\n",
    "centroids = {\n",
    "  #  i+1: [np.random.randint(0, 80), np.random.randint(0, 80)]\n",
    "    i+1: [np.random.choice(usedata['dt']), np.random.choice(usedata['AverageTemperature'])]\n",
    "    for i in range(k)\n",
    "}\n",
    "    \n",
    "fig = plt.figure(figsize=(20, 5))\n",
    "plt.scatter(df['x'], df['y'], color='k')\n",
    "colmap = {1: 'r', 2: 'g', 3: 'b'}\n",
    "for i in centroids.keys():\n",
    "    plt.scatter(*centroids[i], color=colmap[i])\n",
    "#plt.xlim(0, 80)\n",
    "#plt.ylim(0, 30)\n",
    "plt.show()"
   ]
  },
  {
   "cell_type": "code",
   "execution_count": null,
   "metadata": {},
   "outputs": [],
   "source": [
    "def assignment(df, centroids):\n",
    "    for i in centroids.keys():\n",
    "        # sqrt((x1 - x2)^2 - (y1 - y2)^2)\n",
    "        df['distance_from_{}'.format(i)] = (\n",
    "            np.sqrt(\n",
    "                (df['x'] - centroids[i][0]) ** 2\n",
    "                + (df['y'] - centroids[i][1]) ** 2\n",
    "            )\n",
    "        )\n",
    "    centroid_distance_cols = ['distance_from_{}'.format(i) for i in centroids.keys()]\n",
    "    df['closest'] = df.loc[:, centroid_distance_cols].idxmin(axis=1)\n",
    "    df['closest'] = df['closest'].map(lambda x: int(x.lstrip('distance_from_')))\n",
    "    df['color'] = df['closest'].map(lambda x: colmap[x])\n",
    "    return df\n",
    "\n",
    "df = assignment(df, centroids)\n",
    "print(df.head())\n",
    "\n",
    "fig = plt.figure(figsize=(20, 5))\n",
    "plt.scatter(df['x'], df['y'], color=df['color'], alpha=0.5, edgecolor='k')\n",
    "for i in centroids.keys():\n",
    "    plt.scatter(*centroids[i], color=colmap[i])\n",
    "#plt.xlim(0, 80)\n",
    "#plt.ylim(0, 80)\n",
    "plt.show()"
   ]
  },
  {
   "cell_type": "code",
   "execution_count": null,
   "metadata": {},
   "outputs": [],
   "source": []
  }
 ],
 "metadata": {
  "kernelspec": {
   "display_name": "Python 3",
   "language": "python",
   "name": "python3"
  },
  "language_info": {
   "codemirror_mode": {
    "name": "ipython",
    "version": 3
   },
   "file_extension": ".py",
   "mimetype": "text/x-python",
   "name": "python",
   "nbconvert_exporter": "python",
   "pygments_lexer": "ipython3",
   "version": "3.6.8"
  }
 },
 "nbformat": 4,
 "nbformat_minor": 4
}
