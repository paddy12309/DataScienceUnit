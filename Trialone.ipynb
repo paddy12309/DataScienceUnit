{
 "cells": [
  {
   "cell_type": "code",
   "execution_count": 1,
   "metadata": {},
   "outputs": [],
   "source": [
    "import csv\n",
    "import pandas as pd\n",
    "import matplotlib as mpl\n",
    "import numpy as np"
   ]
  },
  {
   "cell_type": "code",
   "execution_count": 2,
   "metadata": {},
   "outputs": [
    {
     "name": "stdout",
     "output_type": "stream",
     "text": [
      "                 dt  AverageTemperature  AverageTemperatureUncertainty  \\\n",
      "0        1743-11-01               6.068                          1.737   \n",
      "1        1743-12-01                 NaN                            NaN   \n",
      "2        1744-01-01                 NaN                            NaN   \n",
      "3        1744-02-01                 NaN                            NaN   \n",
      "4        1744-03-01                 NaN                            NaN   \n",
      "...             ...                 ...                            ...   \n",
      "8599207  2013-05-01              11.464                          0.236   \n",
      "8599208  2013-06-01              15.043                          0.261   \n",
      "8599209  2013-07-01              18.775                          0.193   \n",
      "8599210  2013-08-01              18.025                          0.298   \n",
      "8599211  2013-09-01                 NaN                            NaN   \n",
      "\n",
      "           City      Country Latitude Longitude  \n",
      "0         Århus      Denmark   57.05N    10.33E  \n",
      "1         Århus      Denmark   57.05N    10.33E  \n",
      "2         Århus      Denmark   57.05N    10.33E  \n",
      "3         Århus      Denmark   57.05N    10.33E  \n",
      "4         Århus      Denmark   57.05N    10.33E  \n",
      "...         ...          ...      ...       ...  \n",
      "8599207  Zwolle  Netherlands   52.24N     5.26E  \n",
      "8599208  Zwolle  Netherlands   52.24N     5.26E  \n",
      "8599209  Zwolle  Netherlands   52.24N     5.26E  \n",
      "8599210  Zwolle  Netherlands   52.24N     5.26E  \n",
      "8599211  Zwolle  Netherlands   52.24N     5.26E  \n",
      "\n",
      "[8599212 rows x 7 columns]\n"
     ]
    }
   ],
   "source": [
    "with open('GlobalLandTemperaturesByCity.csv') as csvfile:\n",
    "    data = pd.read_csv(csvfile)\n",
    "    \n",
    "    data.head()\n",
    "    print(data)\n",
    "        "
   ]
  },
  {
   "cell_type": "code",
   "execution_count": null,
   "metadata": {},
   "outputs": [],
   "source": [
    "changedata = data[data['City'].str.match('Pokhara') & data['Country'].str.match('Nepal')]\n",
    "usedata = changedata[changedata['dt']>= '1970-01-01']\n",
    "#changedata = usedata.to_datetime(usedata['dt'])\n",
    "pd.to_datetime(usedata['dt'])\n",
    "\n",
    "df = pd.DataFrame({\n",
    "    'x': usedata['dt'],\n",
    "    'y': usedata['AverageTemperature']\n",
    "})\n",
    "\n",
    "\n",
    "from sklearn.cluster import KMeans\n",
    "\n",
    "kmeans = KMeans(n_clusters=3)\n",
    "kmeans.fit(df)"
   ]
  },
  {
   "cell_type": "code",
   "execution_count": null,
   "metadata": {},
   "outputs": [],
   "source": [
    "labels = kmeans.predict(df)\n",
    "centroids = kmeans.cluster_centers_"
   ]
  },
  {
   "cell_type": "code",
   "execution_count": null,
   "metadata": {},
   "outputs": [],
   "source": [
    "fig = plt.figure(figsize=(20, 5))\n",
    "\n",
    "colors = map(lambda x: colmap[x+1], labels)\n",
    "\n",
    "plt.scatter(df['x'], df['y'], color=colors, alpha=0.5, edgecolor='k')\n",
    "for idx, centroid in enumerate(centroids):\n",
    "    plt.scatter(*centroid, color=colmap[idx+1])\n",
    "#plt.xlim(0, 80)\n",
    "#plt.ylim(0, 80)\n",
    "plt.show()"
   ]
  }
 ],
 "metadata": {
  "kernelspec": {
   "display_name": "Python 3",
   "language": "python",
   "name": "python3"
  },
  "language_info": {
   "codemirror_mode": {
    "name": "ipython",
    "version": 3
   },
   "file_extension": ".py",
   "mimetype": "text/x-python",
   "name": "python",
   "nbconvert_exporter": "python",
   "pygments_lexer": "ipython3",
   "version": "3.6.8"
  }
 },
 "nbformat": 4,
 "nbformat_minor": 4
}
